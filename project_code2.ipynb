{
 "cells": [
  {
   "cell_type": "code",
   "execution_count": 1,
   "metadata": {},
   "outputs": [
    {
     "data": {
      "text/html": [
       "<div>\n",
       "<style scoped>\n",
       "    .dataframe tbody tr th:only-of-type {\n",
       "        vertical-align: middle;\n",
       "    }\n",
       "\n",
       "    .dataframe tbody tr th {\n",
       "        vertical-align: top;\n",
       "    }\n",
       "\n",
       "    .dataframe thead th {\n",
       "        text-align: right;\n",
       "    }\n",
       "</style>\n",
       "<table border=\"1\" class=\"dataframe\">\n",
       "  <thead>\n",
       "    <tr style=\"text-align: right;\">\n",
       "      <th></th>\n",
       "      <th>position</th>\n",
       "      <th>company</th>\n",
       "      <th>description</th>\n",
       "      <th>reviews</th>\n",
       "      <th>location</th>\n",
       "    </tr>\n",
       "  </thead>\n",
       "  <tbody>\n",
       "    <tr>\n",
       "      <th>0</th>\n",
       "      <td>Development Director</td>\n",
       "      <td>ALS TDI</td>\n",
       "      <td>Development Director\\nALS Therapy Development ...</td>\n",
       "      <td>NaN</td>\n",
       "      <td>Atlanta, GA 30301</td>\n",
       "    </tr>\n",
       "    <tr>\n",
       "      <th>1</th>\n",
       "      <td>An Ostentatiously-Excitable Principal Research...</td>\n",
       "      <td>The Hexagon Lavish</td>\n",
       "      <td>Job Description\\n\\n\"The road that leads to acc...</td>\n",
       "      <td>NaN</td>\n",
       "      <td>Atlanta, GA</td>\n",
       "    </tr>\n",
       "    <tr>\n",
       "      <th>2</th>\n",
       "      <td>Data Scientist</td>\n",
       "      <td>Xpert Staffing</td>\n",
       "      <td>Growing company located in the Atlanta, GA are...</td>\n",
       "      <td>NaN</td>\n",
       "      <td>Atlanta, GA</td>\n",
       "    </tr>\n",
       "    <tr>\n",
       "      <th>3</th>\n",
       "      <td>Data Analyst</td>\n",
       "      <td>Operation HOPE</td>\n",
       "      <td>DEPARTMENT: Program OperationsPOSITION LOCATIO...</td>\n",
       "      <td>44.0</td>\n",
       "      <td>Atlanta, GA 30303</td>\n",
       "    </tr>\n",
       "    <tr>\n",
       "      <th>4</th>\n",
       "      <td>Assistant Professor -TT - Signal Processing &amp; ...</td>\n",
       "      <td>Emory University</td>\n",
       "      <td>DESCRIPTION\\nThe Emory University Department o...</td>\n",
       "      <td>550.0</td>\n",
       "      <td>Atlanta, GA</td>\n",
       "    </tr>\n",
       "  </tbody>\n",
       "</table>\n",
       "</div>"
      ],
      "text/plain": [
       "                                            position             company  \\\n",
       "0                               Development Director             ALS TDI   \n",
       "1  An Ostentatiously-Excitable Principal Research...  The Hexagon Lavish   \n",
       "2                                     Data Scientist      Xpert Staffing   \n",
       "3                                       Data Analyst      Operation HOPE   \n",
       "4  Assistant Professor -TT - Signal Processing & ...    Emory University   \n",
       "\n",
       "                                         description  reviews  \\\n",
       "0  Development Director\\nALS Therapy Development ...      NaN   \n",
       "1  Job Description\\n\\n\"The road that leads to acc...      NaN   \n",
       "2  Growing company located in the Atlanta, GA are...      NaN   \n",
       "3  DEPARTMENT: Program OperationsPOSITION LOCATIO...     44.0   \n",
       "4  DESCRIPTION\\nThe Emory University Department o...    550.0   \n",
       "\n",
       "             location  \n",
       "0  Atlanta, GA 30301   \n",
       "1         Atlanta, GA  \n",
       "2         Atlanta, GA  \n",
       "3  Atlanta, GA 30303   \n",
       "4         Atlanta, GA  "
      ]
     },
     "execution_count": 1,
     "metadata": {},
     "output_type": "execute_result"
    }
   ],
   "source": [
    "#Dependencies\n",
    "import numpy as np\n",
    "import pandas as pd\n",
    "import requests\n",
    "import matplotlib.pyplot as plt\n",
    "\n",
    "all_data = \"datascientist/alldata.csv\"\n",
    "\n",
    "all_data_read = pd.read_csv(all_data)\n",
    "\n",
    "all_data_read.head()"
   ]
  },
  {
   "cell_type": "code",
   "execution_count": 2,
   "metadata": {},
   "outputs": [
    {
     "data": {
      "text/html": [
       "<div>\n",
       "<style scoped>\n",
       "    .dataframe tbody tr th:only-of-type {\n",
       "        vertical-align: middle;\n",
       "    }\n",
       "\n",
       "    .dataframe tbody tr th {\n",
       "        vertical-align: top;\n",
       "    }\n",
       "\n",
       "    .dataframe thead th {\n",
       "        text-align: right;\n",
       "    }\n",
       "</style>\n",
       "<table border=\"1\" class=\"dataframe\">\n",
       "  <thead>\n",
       "    <tr style=\"text-align: right;\">\n",
       "      <th></th>\n",
       "      <th>position</th>\n",
       "      <th>company</th>\n",
       "      <th>description</th>\n",
       "      <th>reviews</th>\n",
       "      <th>location</th>\n",
       "    </tr>\n",
       "  </thead>\n",
       "  <tbody>\n",
       "    <tr>\n",
       "      <th>3</th>\n",
       "      <td>Data Analyst</td>\n",
       "      <td>Operation HOPE</td>\n",
       "      <td>DEPARTMENT: Program OperationsPOSITION LOCATIO...</td>\n",
       "      <td>44.0</td>\n",
       "      <td>Atlanta, GA 30303</td>\n",
       "    </tr>\n",
       "    <tr>\n",
       "      <th>4</th>\n",
       "      <td>Assistant Professor -TT - Signal Processing &amp; ...</td>\n",
       "      <td>Emory University</td>\n",
       "      <td>DESCRIPTION\\nThe Emory University Department o...</td>\n",
       "      <td>550.0</td>\n",
       "      <td>Atlanta, GA</td>\n",
       "    </tr>\n",
       "    <tr>\n",
       "      <th>5</th>\n",
       "      <td>Manager of Data Engineering</td>\n",
       "      <td>McKinsey &amp; Company</td>\n",
       "      <td>Qualifications\\nBachelor’s degree in Computer ...</td>\n",
       "      <td>385.0</td>\n",
       "      <td>Atlanta, GA 30318</td>\n",
       "    </tr>\n",
       "    <tr>\n",
       "      <th>6</th>\n",
       "      <td>Product Specialist - Periscope, New Ventures</td>\n",
       "      <td>McKinsey &amp; Company</td>\n",
       "      <td>Qualifications\\nBachelor’s degree\\n5-7 years o...</td>\n",
       "      <td>385.0</td>\n",
       "      <td>Atlanta, GA 30318</td>\n",
       "    </tr>\n",
       "    <tr>\n",
       "      <th>7</th>\n",
       "      <td>Junior to Mid-level Engineer, Geologist or Env...</td>\n",
       "      <td>Wood</td>\n",
       "      <td>Overview / Responsibilities\\nWood Environment ...</td>\n",
       "      <td>899.0</td>\n",
       "      <td>Atlanta, GA</td>\n",
       "    </tr>\n",
       "  </tbody>\n",
       "</table>\n",
       "</div>"
      ],
      "text/plain": [
       "                                            position             company  \\\n",
       "3                                       Data Analyst      Operation HOPE   \n",
       "4  Assistant Professor -TT - Signal Processing & ...    Emory University   \n",
       "5                        Manager of Data Engineering  McKinsey & Company   \n",
       "6       Product Specialist - Periscope, New Ventures  McKinsey & Company   \n",
       "7  Junior to Mid-level Engineer, Geologist or Env...                Wood   \n",
       "\n",
       "                                         description  reviews  \\\n",
       "3  DEPARTMENT: Program OperationsPOSITION LOCATIO...     44.0   \n",
       "4  DESCRIPTION\\nThe Emory University Department o...    550.0   \n",
       "5  Qualifications\\nBachelor’s degree in Computer ...    385.0   \n",
       "6  Qualifications\\nBachelor’s degree\\n5-7 years o...    385.0   \n",
       "7  Overview / Responsibilities\\nWood Environment ...    899.0   \n",
       "\n",
       "             location  \n",
       "3  Atlanta, GA 30303   \n",
       "4         Atlanta, GA  \n",
       "5  Atlanta, GA 30318   \n",
       "6  Atlanta, GA 30318   \n",
       "7         Atlanta, GA  "
      ]
     },
     "execution_count": 2,
     "metadata": {},
     "output_type": "execute_result"
    }
   ],
   "source": [
    "#Got rid of all NA values in the dataset\n",
    "all_data_read = all_data_read.dropna()\n",
    "all_data_read.head()"
   ]
  },
  {
   "cell_type": "code",
   "execution_count": null,
   "metadata": {},
   "outputs": [],
   "source": []
  },
  {
   "cell_type": "code",
   "execution_count": 3,
   "metadata": {},
   "outputs": [
    {
     "data": {
      "text/html": [
       "<div>\n",
       "<style scoped>\n",
       "    .dataframe tbody tr th:only-of-type {\n",
       "        vertical-align: middle;\n",
       "    }\n",
       "\n",
       "    .dataframe tbody tr th {\n",
       "        vertical-align: top;\n",
       "    }\n",
       "\n",
       "    .dataframe thead th {\n",
       "        text-align: right;\n",
       "    }\n",
       "</style>\n",
       "<table border=\"1\" class=\"dataframe\">\n",
       "  <thead>\n",
       "    <tr style=\"text-align: right;\">\n",
       "      <th></th>\n",
       "      <th>location</th>\n",
       "    </tr>\n",
       "  </thead>\n",
       "  <tbody>\n",
       "    <tr>\n",
       "      <th>Seattle, WA</th>\n",
       "      <td>474</td>\n",
       "    </tr>\n",
       "    <tr>\n",
       "      <th>Cambridge, MA</th>\n",
       "      <td>368</td>\n",
       "    </tr>\n",
       "    <tr>\n",
       "      <th>New York, NY</th>\n",
       "      <td>338</td>\n",
       "    </tr>\n",
       "    <tr>\n",
       "      <th>Boston, MA</th>\n",
       "      <td>305</td>\n",
       "    </tr>\n",
       "    <tr>\n",
       "      <th>San Francisco, CA</th>\n",
       "      <td>287</td>\n",
       "    </tr>\n",
       "  </tbody>\n",
       "</table>\n",
       "</div>"
      ],
      "text/plain": [
       "                   location\n",
       "Seattle, WA             474\n",
       "Cambridge, MA           368\n",
       "New York, NY            338\n",
       "Boston, MA              305\n",
       "San Francisco, CA       287"
      ]
     },
     "execution_count": 3,
     "metadata": {},
     "output_type": "execute_result"
    }
   ],
   "source": [
    "#Created dataframe for top five locations\n",
    "locations = all_data_read[\"location\"]\n",
    "\n",
    "data_locations = pd.DataFrame(locations.value_counts())\n",
    "\n",
    "data_locations.head(5)\n",
    "\n",
    "five_locations = data_locations.head(5)\n",
    "five_locations"
   ]
  },
  {
   "cell_type": "code",
   "execution_count": 4,
   "metadata": {},
   "outputs": [
    {
     "data": {
      "image/png": "[encoded data removed]",
      "text/plain": [
       "<Figure size 432x288 with 1 Axes>"
      ]
     },
     "metadata": {
      "needs_background": "light"
     },
     "output_type": "display_data"
    }
   ],
   "source": [
    "# Making a bar graph based on the top five locations where most jobs are posted\n",
    "total_jobs = [474, 368, 338, 305, 287]\n",
    "x_axis = np.arange(len(five_locations))\n",
    "tick_locations = [value for value in x_axis]\n",
    "plt.xticks(tick_locations, [\"Seattle\", \"Cambridge\", \"New York\", \"Boston\", \"San Francisco\"])\n",
    "plt.bar(x_axis, total_jobs, color='r', alpha=0.5, align=\"center\")\n",
    "plt.xlim(-0.75, len(x_axis)-0.25)\n",
    "plt.ylim(250, max(total_jobs)+50)\n",
    "plt.title(\"Top Five Cities for Data Scientist Jobs in the United States\")\n",
    "plt.xlabel(\"Top Five Cities\")\n",
    "plt.ylabel(\"Total Number of Jobs Posted\")\n",
    "# Save an image of the chart and print it to the screen\n",
    "plt.savefig(\"Images/Top_five_cities.png\")\n",
    "plt.show()"
   ]
  },
  {
   "cell_type": "code",
   "execution_count": 5,
   "metadata": {},
   "outputs": [
    {
     "data": {
      "text/html": [
       "<div>\n",
       "<style scoped>\n",
       "    .dataframe tbody tr th:only-of-type {\n",
       "        vertical-align: middle;\n",
       "    }\n",
       "\n",
       "    .dataframe tbody tr th {\n",
       "        vertical-align: top;\n",
       "    }\n",
       "\n",
       "    .dataframe thead th {\n",
       "        text-align: right;\n",
       "    }\n",
       "</style>\n",
       "<table border=\"1\" class=\"dataframe\">\n",
       "  <thead>\n",
       "    <tr style=\"text-align: right;\">\n",
       "      <th></th>\n",
       "      <th>company</th>\n",
       "    </tr>\n",
       "  </thead>\n",
       "  <tbody>\n",
       "    <tr>\n",
       "      <th>Amazon.com</th>\n",
       "      <td>357</td>\n",
       "    </tr>\n",
       "    <tr>\n",
       "      <th>Ball Aerospace</th>\n",
       "      <td>187</td>\n",
       "    </tr>\n",
       "    <tr>\n",
       "      <th>Microsoft</th>\n",
       "      <td>137</td>\n",
       "    </tr>\n",
       "    <tr>\n",
       "      <th>Google</th>\n",
       "      <td>134</td>\n",
       "    </tr>\n",
       "    <tr>\n",
       "      <th>NYU Langone Health</th>\n",
       "      <td>76</td>\n",
       "    </tr>\n",
       "  </tbody>\n",
       "</table>\n",
       "</div>"
      ],
      "text/plain": [
       "                    company\n",
       "Amazon.com              357\n",
       "Ball Aerospace          187\n",
       "Microsoft               137\n",
       "Google                  134\n",
       "NYU Langone Health       76"
      ]
     },
     "execution_count": 5,
     "metadata": {},
     "output_type": "execute_result"
    }
   ],
   "source": [
    "companies = all_data_read[\"company\"]\n",
    "\n",
    "data_company = pd.DataFrame(companies.value_counts())\n",
    "\n",
    "data_company.head(5)\n",
    "\n",
    "five_company = data_company.head(5)\n",
    "five_company"
   ]
  },
  {
   "cell_type": "code",
   "execution_count": 6,
   "metadata": {},
   "outputs": [
    {
     "data": {
      "image/png": "[encoded data removed]",
      "text/plain": [
       "<Figure size 432x288 with 1 Axes>"
      ]
     },
     "metadata": {},
     "output_type": "display_data"
    }
   ],
   "source": [
    "total_companies = [357, 187, 137, 134, 76]\n",
    "labels = [\"Amazon\", \"Ball Aerospace\", \"Microsoft\", \"Google\", \"NYU Langone Health\"]\n",
    "colors = [\"red\", \"orange\", \"lightcoral\", \"lightskyblue\", \"green\"]\n",
    "\n",
    "explode = [0.1, 0, 0, 0, 0]\n",
    "\n",
    "plt.pie(total_companies, labels=labels, explode=explode, colors=colors, autopct=\"%1.1f%%\", shadow=True, startangle=140)\n",
    "plt.axis(\"equal\")\n",
    "\n",
    "plt.title(\"Top Five Companies for Data Scientist Jobs in the United States\")\n",
    "\n",
    "# Save an image of the chart and print it to the screen\n",
    "plt.savefig(\"Images/Top_five_companies.png\")\n",
    "plt.show()"
   ]
  },
  {
   "cell_type": "code",
   "execution_count": 7,
   "metadata": {},
   "outputs": [
    {
     "data": {
      "text/html": [
       "<div>\n",
       "<style scoped>\n",
       "    .dataframe tbody tr th:only-of-type {\n",
       "        vertical-align: middle;\n",
       "    }\n",
       "\n",
       "    .dataframe tbody tr th {\n",
       "        vertical-align: top;\n",
       "    }\n",
       "\n",
       "    .dataframe thead th {\n",
       "        text-align: right;\n",
       "    }\n",
       "</style>\n",
       "<table border=\"1\" class=\"dataframe\">\n",
       "  <thead>\n",
       "    <tr style=\"text-align: right;\">\n",
       "      <th></th>\n",
       "      <th>position</th>\n",
       "    </tr>\n",
       "  </thead>\n",
       "  <tbody>\n",
       "    <tr>\n",
       "      <th>Data Scientist</th>\n",
       "      <td>204</td>\n",
       "    </tr>\n",
       "    <tr>\n",
       "      <th>Senior Data Scientist</th>\n",
       "      <td>53</td>\n",
       "    </tr>\n",
       "    <tr>\n",
       "      <th>Research Analyst</th>\n",
       "      <td>44</td>\n",
       "    </tr>\n",
       "    <tr>\n",
       "      <th>Data Engineer</th>\n",
       "      <td>39</td>\n",
       "    </tr>\n",
       "    <tr>\n",
       "      <th>Machine Learning Engineer</th>\n",
       "      <td>26</td>\n",
       "    </tr>\n",
       "  </tbody>\n",
       "</table>\n",
       "</div>"
      ],
      "text/plain": [
       "                           position\n",
       "Data Scientist                  204\n",
       "Senior Data Scientist            53\n",
       "Research Analyst                 44\n",
       "Data Engineer                    39\n",
       "Machine Learning Engineer        26"
      ]
     },
     "execution_count": 7,
     "metadata": {},
     "output_type": "execute_result"
    }
   ],
   "source": [
    "position = all_data_read[\"position\"]\n",
    "\n",
    "data_position = pd.DataFrame(position.value_counts())\n",
    "\n",
    "data_position.head(5)\n",
    "\n",
    "five_position = data_position.head(5)\n",
    "five_position"
   ]
  },
  {
   "cell_type": "code",
   "execution_count": 8,
   "metadata": {},
   "outputs": [
    {
     "data": {
      "image/png": "[encoded data removed]",
      "text/plain": [
       "<Figure size 432x288 with 1 Axes>"
      ]
     },
     "metadata": {
      "needs_background": "light"
     },
     "output_type": "display_data"
    }
   ],
   "source": [
    "df = pd.DataFrame({'Total Jobs Available': [204, 53, 44, 39, 26], 'position': [\"Data Scientist\", \"Senior Data Scientist\", \"Research Analyst\", \"Data Engineer\", \"Machine Learning Engineer\"]})\n",
    "df.plot.barh(x='position', y='Total Jobs Available')\n",
    "\n",
    "\n",
    "\n",
    "# Save an image of the chart and print it to the screen\n",
    "plt.savefig(\"Images/Top_five_jobs.png\")\n",
    "plt.show()"
   ]
  },
  {
   "cell_type": "code",
   "execution_count": 9,
   "metadata": {},
   "outputs": [
    {
     "data": {
      "text/html": [
       "<div>\n",
       "<style scoped>\n",
       "    .dataframe tbody tr th:only-of-type {\n",
       "        vertical-align: middle;\n",
       "    }\n",
       "\n",
       "    .dataframe tbody tr th {\n",
       "        vertical-align: top;\n",
       "    }\n",
       "\n",
       "    .dataframe thead th {\n",
       "        text-align: right;\n",
       "    }\n",
       "</style>\n",
       "<table border=\"1\" class=\"dataframe\">\n",
       "  <thead>\n",
       "    <tr style=\"text-align: right;\">\n",
       "      <th></th>\n",
       "      <th>position</th>\n",
       "      <th>company</th>\n",
       "      <th>description</th>\n",
       "      <th>numreview</th>\n",
       "      <th>location</th>\n",
       "    </tr>\n",
       "  </thead>\n",
       "  <tbody>\n",
       "    <tr>\n",
       "      <th>0</th>\n",
       "      <td>Senior Scientist, Development</td>\n",
       "      <td>Asuragen</td>\n",
       "      <td>&lt;span id=\"job_summary\" class=\"summary\"&gt;&lt;div&gt;&lt;d...</td>\n",
       "      <td>8 reviews</td>\n",
       "      <td>Austin, TX</td>\n",
       "    </tr>\n",
       "    <tr>\n",
       "      <th>1</th>\n",
       "      <td>Data Software Engineer</td>\n",
       "      <td>Kelvin</td>\n",
       "      <td>&lt;span id=\"job_summary\" class=\"summary\"&gt;&lt;div&gt;&lt;b...</td>\n",
       "      <td>5 reviews</td>\n",
       "      <td>Austin, TX</td>\n",
       "    </tr>\n",
       "    <tr>\n",
       "      <th>2</th>\n",
       "      <td>Bioinformatics Scientist</td>\n",
       "      <td>Premierehire</td>\n",
       "      <td>&lt;span id=\"job_summary\" class=\"summary\"&gt;&lt;p&gt;CONT...</td>\n",
       "      <td>5 reviews</td>\n",
       "      <td>Austin, TX</td>\n",
       "    </tr>\n",
       "    <tr>\n",
       "      <th>3</th>\n",
       "      <td>Research Engineering/ Scientist Associate II -...</td>\n",
       "      <td>University of Texas at Austin</td>\n",
       "      <td>&lt;span id=\"job_summary\" class=\"summary\"&gt;&lt;div&gt;&lt;d...</td>\n",
       "      <td>772 reviews</td>\n",
       "      <td>Austin, TX</td>\n",
       "    </tr>\n",
       "    <tr>\n",
       "      <th>4</th>\n",
       "      <td>Lead Data Scientist</td>\n",
       "      <td>Clockwork Solutions</td>\n",
       "      <td>&lt;span id=\"job_summary\" class=\"summary\"&gt;&lt;div&gt;&lt;p...</td>\n",
       "      <td>5 reviews</td>\n",
       "      <td>Austin, TX 78746</td>\n",
       "    </tr>\n",
       "  </tbody>\n",
       "</table>\n",
       "</div>"
      ],
      "text/plain": [
       "                                            position  \\\n",
       "0                      Senior Scientist, Development   \n",
       "1                             Data Software Engineer   \n",
       "2                           Bioinformatics Scientist   \n",
       "3  Research Engineering/ Scientist Associate II -...   \n",
       "4                                Lead Data Scientist   \n",
       "\n",
       "                         company  \\\n",
       "0                       Asuragen   \n",
       "1                         Kelvin   \n",
       "2                   Premierehire   \n",
       "3  University of Texas at Austin   \n",
       "4            Clockwork Solutions   \n",
       "\n",
       "                                         description    numreview  \\\n",
       "0  <span id=\"job_summary\" class=\"summary\"><div><d...    8 reviews   \n",
       "1  <span id=\"job_summary\" class=\"summary\"><div><b...    5 reviews   \n",
       "2  <span id=\"job_summary\" class=\"summary\"><p>CONT...    5 reviews   \n",
       "3  <span id=\"job_summary\" class=\"summary\"><div><d...  772 reviews   \n",
       "4  <span id=\"job_summary\" class=\"summary\"><div><p...    5 reviews   \n",
       "\n",
       "           location  \n",
       "0        Austin, TX  \n",
       "1        Austin, TX  \n",
       "2        Austin, TX  \n",
       "3        Austin, TX  \n",
       "4  Austin, TX 78746  "
      ]
     },
     "execution_count": 9,
     "metadata": {},
     "output_type": "execute_result"
    }
   ],
   "source": [
    "atx_data = \"datascientist/fulltimeAT.csv\"\n",
    "\n",
    "atx_data_read = pd.read_csv(atx_data)\n",
    "\n",
    "atx_data_read = atx_data_read.dropna()\n",
    "#atx_description = atx_data_read[\"description\"]\n",
    "#atx_description_fixed = pd.DataFrame(atx_description)\n",
    "#atx_description_fixed\n",
    "atx_data_read.head()"
   ]
  },
  {
   "cell_type": "code",
   "execution_count": 10,
   "metadata": {},
   "outputs": [
    {
     "data": {
      "text/html": [
       "<div>\n",
       "<style scoped>\n",
       "    .dataframe tbody tr th:only-of-type {\n",
       "        vertical-align: middle;\n",
       "    }\n",
       "\n",
       "    .dataframe tbody tr th {\n",
       "        vertical-align: top;\n",
       "    }\n",
       "\n",
       "    .dataframe thead th {\n",
       "        text-align: right;\n",
       "    }\n",
       "</style>\n",
       "<table border=\"1\" class=\"dataframe\">\n",
       "  <thead>\n",
       "    <tr style=\"text-align: right;\">\n",
       "      <th></th>\n",
       "      <th>company</th>\n",
       "    </tr>\n",
       "  </thead>\n",
       "  <tbody>\n",
       "    <tr>\n",
       "      <th>University of Texas at Austin</th>\n",
       "      <td>23</td>\n",
       "    </tr>\n",
       "    <tr>\n",
       "      <th>Natera</th>\n",
       "      <td>8</td>\n",
       "    </tr>\n",
       "    <tr>\n",
       "      <th>Advanced Micro Devices, Inc.</th>\n",
       "      <td>8</td>\n",
       "    </tr>\n",
       "    <tr>\n",
       "      <th>DELL</th>\n",
       "      <td>7</td>\n",
       "    </tr>\n",
       "    <tr>\n",
       "      <th>National Instruments</th>\n",
       "      <td>6</td>\n",
       "    </tr>\n",
       "  </tbody>\n",
       "</table>\n",
       "</div>"
      ],
      "text/plain": [
       "                               company\n",
       "University of Texas at Austin       23\n",
       "Natera                               8\n",
       "Advanced Micro Devices, Inc.         8\n",
       "DELL                                 7\n",
       "National Instruments                 6"
      ]
     },
     "execution_count": 10,
     "metadata": {},
     "output_type": "execute_result"
    }
   ],
   "source": [
    "atx_companies = atx_data_read[\"company\"]\n",
    "\n",
    "atx_data_company = pd.DataFrame(atx_companies.value_counts())\n",
    "\n",
    "atx_data_company.head(5)\n",
    "\n",
    "atx_five_company = atx_data_company.head(5)\n",
    "atx_five_company"
   ]
  },
  {
   "cell_type": "code",
   "execution_count": 60,
   "metadata": {},
   "outputs": [],
   "source": [
    "#text = atx_description.iloc[0]\n",
    "#import re\n",
    "#atx_description_fixed['text'] = pd.apply(lambda x: re.sub(r'\\<+[^\\>]+\\>', '', x))\n"
   ]
  },
  {
   "cell_type": "code",
   "execution_count": 40,
   "metadata": {},
   "outputs": [],
   "source": [
    "skills = [\"Python\", \"R\", \"SQL\", \"Java\", \"C++\"]\n",
    "def skills_count(text):\n",
    "    skills = [\"Python\", \"R\", \"SQL\", \"Java\", \"C++\"]\n",
    "    skilsdict = {\"Python\": 0, \"R\": 0, \"SQL\": 0, \"Java\": 0, \"C++\": 0}\n",
    "    for x in skills:\n",
    "        for t in text.split(' '):\n",
    "            if x.lower() == t.lower():\n",
    "                skilsdict[x]+= 1\n",
    "    return skilsdict.values()\n",
    "all_data_read['description'].apply(skills_count)\n",
    "all_data_read['Python'], all_data_read['R'], all_data_read[\"SQL\"], all_data_read[\"Java\"], all_data_read[\"C++\"] = zip(*all_data_read['description'].apply(skills_count))"
   ]
  },
  {
   "cell_type": "code",
   "execution_count": 50,
   "metadata": {},
   "outputs": [],
   "source": [
    "all_data_read\n",
    "python = all_data_read['Python'].sum()\n",
    "r = all_data_read['R'].sum()\n",
    "java = all_data_read['Java'].sum()\n",
    "c = all_data_read['C++'].sum()"
   ]
  },
  {
   "cell_type": "code",
   "execution_count": 60,
   "metadata": {},
   "outputs": [
    {
     "data": {
      "text/html": [
       "<div>\n",
       "<style scoped>\n",
       "    .dataframe tbody tr th:only-of-type {\n",
       "        vertical-align: middle;\n",
       "    }\n",
       "\n",
       "    .dataframe tbody tr th {\n",
       "        vertical-align: top;\n",
       "    }\n",
       "\n",
       "    .dataframe thead th {\n",
       "        text-align: right;\n",
       "    }\n",
       "</style>\n",
       "<table border=\"1\" class=\"dataframe\">\n",
       "  <thead>\n",
       "    <tr style=\"text-align: right;\">\n",
       "      <th></th>\n",
       "      <th>Most Desired Skills</th>\n",
       "    </tr>\n",
       "  </thead>\n",
       "  <tbody>\n",
       "    <tr>\n",
       "      <th>Python</th>\n",
       "      <td>728</td>\n",
       "    </tr>\n",
       "    <tr>\n",
       "      <th>R</th>\n",
       "      <td>438</td>\n",
       "    </tr>\n",
       "    <tr>\n",
       "      <th>Java</th>\n",
       "      <td>236</td>\n",
       "    </tr>\n",
       "    <tr>\n",
       "      <th>C++</th>\n",
       "      <td>123</td>\n",
       "    </tr>\n",
       "  </tbody>\n",
       "</table>\n",
       "</div>"
      ],
      "text/plain": [
       "        Most Desired Skills\n",
       "Python                  728\n",
       "R                       438\n",
       "Java                    236\n",
       "C++                     123"
      ]
     },
     "execution_count": 60,
     "metadata": {},
     "output_type": "execute_result"
    }
   ],
   "source": [
    "skills_df = [python, r, java, c]\n",
    "skills_df = pd.DataFrame((skills_df), columns=['Most Desired Skills'], index=[\"Python\", \"R\", \"Java\", \"C++\"])\n",
    "skills_df"
   ]
  },
  {
   "cell_type": "code",
   "execution_count": 11,
   "metadata": {},
   "outputs": [
    {
     "data": {
      "image/png": "[encoded data removed]",
      "text/plain": [
       "<Figure size 432x288 with 1 Axes>"
      ]
     },
     "metadata": {
      "needs_background": "light"
     },
     "output_type": "display_data"
    }
   ],
   "source": [
    "# Making a bar graph based on the top five locations where most jobs are posted\n",
    "atx_total_jobs = [23, 8, 8, 7, 6]\n",
    "x_axis = np.arange(len(atx_five_company))\n",
    "tick_locations = [value for value in x_axis]\n",
    "plt.xticks(tick_locations, [\"UT\", \"AMD\", \"Natera\", \"DELL\", \"ICF\"])\n",
    "plt.bar(x_axis, atx_total_jobs, color='g', alpha=0.5, align=\"center\")\n",
    "plt.xlim(-0.75, len(x_axis)-0.25)\n",
    "plt.ylim(2, max(atx_total_jobs)+1)\n",
    "plt.title(\"Top Five Companies for Data Scientist Jobs in Austin\")\n",
    "plt.xlabel(\"Top Five Companies\")\n",
    "plt.ylabel(\"Total Number of Jobs Posted\")\n",
    "# Save an image of the chart and print it to the screen\n",
    "plt.savefig(\"Images/Top_five_companies_atx.png\")\n",
    "plt.show()"
   ]
  },
  {
   "cell_type": "code",
   "execution_count": 39,
   "metadata": {},
   "outputs": [],
   "source": [
    "#five_locations.iloc[0]\n",
    "#title = 'Seattle Vs Austin Job Market for Data Scientist'\n",
    "#Pie_plot_agg(filter_column= five_locations.iloc[0],\n",
    " #           column = data_location.iloc[12],\n",
    "  #          title = title,\n",
    "   #         name = ['United States of America','India', 'China', 'Russia'],\n",
    "    #        width = 1000, height =800)\n",
    "    \n",
    "\n"
   ]
  },
  {
   "cell_type": "code",
   "execution_count": 62,
   "metadata": {},
   "outputs": [
    {
     "data": {
      "image/png": "[encoded data removed]",
      "text/plain": [
       "<Figure size 432x216 with 1 Axes>"
      ]
     },
     "metadata": {},
     "output_type": "display_data"
    }
   ],
   "source": [
    "fig, ax = plt.subplots(figsize=(6, 3), subplot_kw=dict(aspect=\"equal\"))\n",
    "\n",
    "skill = [\"728 Python\",\n",
    "          \"438 R\",\n",
    "          \"236 Java\",\n",
    "          \"123 C++\",\n",
    "          ]\n",
    "\n",
    "data = [728, 438, 236, 123]\n",
    "\n",
    "wedges, texts = ax.pie(data, wedgeprops=dict(width=0.5), startangle=-40)\n",
    "\n",
    "bbox_props = dict(boxstyle=\"square,pad=0.3\", fc=\"w\", ec=\"k\", lw=0.72)\n",
    "kw = dict(arrowprops=dict(arrowstyle=\"-\"),\n",
    "          bbox=bbox_props, zorder=0, va=\"center\")\n",
    "\n",
    "for i, p in enumerate(wedges):\n",
    "    ang = (p.theta2 - p.theta1)/2. + p.theta1\n",
    "    y = np.sin(np.deg2rad(ang))\n",
    "    x = np.cos(np.deg2rad(ang))\n",
    "    horizontalalignment = {-1: \"right\", 1: \"left\"}[int(np.sign(x))]\n",
    "    connectionstyle = \"angle,angleA=0,angleB={}\".format(ang)\n",
    "    kw[\"arrowprops\"].update({\"connectionstyle\": connectionstyle})\n",
    "    ax.annotate(skill[i], xy=(x, y), xytext=(1.35*np.sign(x), 1.4*y),\n",
    "                horizontalalignment=horizontalalignment, **kw)\n",
    "\n",
    "ax.set_title(\"Most Desired Skills in the United States\")\n",
    "\n",
    "# Save an image of the chart and print it to the screen\n",
    "plt.savefig(\"Images/most_desired_skills.png\")\n",
    "plt.show()\n"
   ]
  },
  {
   "cell_type": "code",
   "execution_count": null,
   "metadata": {},
   "outputs": [],
   "source": []
  }
 ],
 "metadata": {
  "kernelspec": {
   "display_name": "Python 3",
   "language": "python",
   "name": "python3"
  },
  "language_info": {
   "codemirror_mode": {
    "name": "ipython",
    "version": 3
   },
   "file_extension": ".py",
   "mimetype": "text/x-python",
   "name": "python",
   "nbconvert_exporter": "python",
   "pygments_lexer": "ipython3",
   "version": "3.7.3"
  }
 },
 "nbformat": 4,
 "nbformat_minor": 2
}
